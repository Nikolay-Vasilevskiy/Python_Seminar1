{
 "cells": [
  {
   "cell_type": "markdown",
   "id": "0430ac0d-6ba3-4da2-9960-9513f40815c9",
   "metadata": {},
   "source": [
    "# Знакомство с языком Python (семинары)\n",
    "## Урок 11. Jupyter Notebook и несколько слов об аналитике"
   ]
  },
  {
   "cell_type": "markdown",
   "id": "610f7224-2d97-4be9-b5a3-036163ac295d",
   "metadata": {},
   "source": [
    "#### Pandas"
   ]
  },
  {
   "cell_type": "code",
   "execution_count": 1,
   "id": "c4cdc04e-c92c-458b-82c9-f8fae717866a",
   "metadata": {},
   "outputs": [],
   "source": [
    "import pandas as pd"
   ]
  },
  {
   "cell_type": "markdown",
   "id": "8bb35c1b-dfff-41ca-b8cd-05d1749db6c1",
   "metadata": {},
   "source": [
    "1. Cчитать файл diamonds.csv в DataFrame"
   ]
  },
  {
   "cell_type": "code",
   "execution_count": 2,
   "id": "139e5c43-582b-465e-a44e-2feba9972e6b",
   "metadata": {},
   "outputs": [],
   "source": [
    "df = pd.read_csv('diamonds.csv', index_col = 0)"
   ]
  },
  {
   "cell_type": "markdown",
   "id": "e66d59d3-0bc3-4400-abd1-42c77f18f802",
   "metadata": {},
   "source": [
    "2. Проверить, появились ли лишние строки/столбцы? Если да, удалить их"
   ]
  },
  {
   "cell_type": "code",
   "execution_count": 3,
   "id": "e957278b-3043-4578-8ea6-a04b1036d6f7",
   "metadata": {},
   "outputs": [
    {
     "name": "stdout",
     "output_type": "stream",
     "text": [
      "<class 'pandas.core.frame.DataFrame'>\n",
      "Int64Index: 53940 entries, 1 to 53940\n",
      "Data columns (total 10 columns):\n",
      " #   Column   Non-Null Count  Dtype  \n",
      "---  ------   --------------  -----  \n",
      " 0   carat    53940 non-null  float64\n",
      " 1   cut      53940 non-null  object \n",
      " 2   color    53940 non-null  object \n",
      " 3   clarity  53940 non-null  object \n",
      " 4   depth    53940 non-null  float64\n",
      " 5   table    53940 non-null  float64\n",
      " 6   price    53940 non-null  int64  \n",
      " 7   x        53940 non-null  float64\n",
      " 8   y        53940 non-null  float64\n",
      " 9   z        53940 non-null  float64\n",
      "dtypes: float64(6), int64(1), object(3)\n",
      "memory usage: 4.5+ MB\n"
     ]
    }
   ],
   "source": [
    "df.info()"
   ]
  },
  {
   "cell_type": "code",
   "execution_count": 4,
   "id": "c2ec0312-7621-4e36-ac19-7ea32a3be20c",
   "metadata": {},
   "outputs": [
    {
     "data": {
      "text/plain": [
       "carat      0\n",
       "cut        0\n",
       "color      0\n",
       "clarity    0\n",
       "depth      0\n",
       "table      0\n",
       "price      0\n",
       "x          0\n",
       "y          0\n",
       "z          0\n",
       "dtype: int64"
      ]
     },
     "execution_count": 4,
     "metadata": {},
     "output_type": "execute_result"
    }
   ],
   "source": [
    "len(df) - df.count()"
   ]
  },
  {
   "cell_type": "markdown",
   "id": "dd7d4257-ab94-44aa-868c-f48d14e33f15",
   "metadata": {},
   "source": [
    "3. Напишите программу Pandas для чтения CSV-файла из указанного источника и печати первых 5 строк."
   ]
  },
  {
   "cell_type": "code",
   "execution_count": 5,
   "id": "31ed84a1-8432-48ef-bc0d-d19c8251b079",
   "metadata": {},
   "outputs": [
    {
     "data": {
      "text/html": [
       "<div>\n",
       "<style scoped>\n",
       "    .dataframe tbody tr th:only-of-type {\n",
       "        vertical-align: middle;\n",
       "    }\n",
       "\n",
       "    .dataframe tbody tr th {\n",
       "        vertical-align: top;\n",
       "    }\n",
       "\n",
       "    .dataframe thead th {\n",
       "        text-align: right;\n",
       "    }\n",
       "</style>\n",
       "<table border=\"1\" class=\"dataframe\">\n",
       "  <thead>\n",
       "    <tr style=\"text-align: right;\">\n",
       "      <th></th>\n",
       "      <th>carat</th>\n",
       "      <th>cut</th>\n",
       "      <th>color</th>\n",
       "      <th>clarity</th>\n",
       "      <th>depth</th>\n",
       "      <th>table</th>\n",
       "      <th>price</th>\n",
       "      <th>x</th>\n",
       "      <th>y</th>\n",
       "      <th>z</th>\n",
       "    </tr>\n",
       "  </thead>\n",
       "  <tbody>\n",
       "    <tr>\n",
       "      <th>1</th>\n",
       "      <td>0.23</td>\n",
       "      <td>Ideal</td>\n",
       "      <td>E</td>\n",
       "      <td>SI2</td>\n",
       "      <td>61.5</td>\n",
       "      <td>55.0</td>\n",
       "      <td>326</td>\n",
       "      <td>3.95</td>\n",
       "      <td>3.98</td>\n",
       "      <td>2.43</td>\n",
       "    </tr>\n",
       "    <tr>\n",
       "      <th>2</th>\n",
       "      <td>0.21</td>\n",
       "      <td>Premium</td>\n",
       "      <td>E</td>\n",
       "      <td>SI1</td>\n",
       "      <td>59.8</td>\n",
       "      <td>61.0</td>\n",
       "      <td>326</td>\n",
       "      <td>3.89</td>\n",
       "      <td>3.84</td>\n",
       "      <td>2.31</td>\n",
       "    </tr>\n",
       "    <tr>\n",
       "      <th>3</th>\n",
       "      <td>0.23</td>\n",
       "      <td>Good</td>\n",
       "      <td>E</td>\n",
       "      <td>VS1</td>\n",
       "      <td>56.9</td>\n",
       "      <td>65.0</td>\n",
       "      <td>327</td>\n",
       "      <td>4.05</td>\n",
       "      <td>4.07</td>\n",
       "      <td>2.31</td>\n",
       "    </tr>\n",
       "    <tr>\n",
       "      <th>4</th>\n",
       "      <td>0.29</td>\n",
       "      <td>Premium</td>\n",
       "      <td>I</td>\n",
       "      <td>VS2</td>\n",
       "      <td>62.4</td>\n",
       "      <td>58.0</td>\n",
       "      <td>334</td>\n",
       "      <td>4.20</td>\n",
       "      <td>4.23</td>\n",
       "      <td>2.63</td>\n",
       "    </tr>\n",
       "    <tr>\n",
       "      <th>5</th>\n",
       "      <td>0.31</td>\n",
       "      <td>Good</td>\n",
       "      <td>J</td>\n",
       "      <td>SI2</td>\n",
       "      <td>63.3</td>\n",
       "      <td>58.0</td>\n",
       "      <td>335</td>\n",
       "      <td>4.34</td>\n",
       "      <td>4.35</td>\n",
       "      <td>2.75</td>\n",
       "    </tr>\n",
       "  </tbody>\n",
       "</table>\n",
       "</div>"
      ],
      "text/plain": [
       "   carat      cut color clarity  depth  table  price     x     y     z\n",
       "1   0.23    Ideal     E     SI2   61.5   55.0    326  3.95  3.98  2.43\n",
       "2   0.21  Premium     E     SI1   59.8   61.0    326  3.89  3.84  2.31\n",
       "3   0.23     Good     E     VS1   56.9   65.0    327  4.05  4.07  2.31\n",
       "4   0.29  Premium     I     VS2   62.4   58.0    334  4.20  4.23  2.63\n",
       "5   0.31     Good     J     SI2   63.3   58.0    335  4.34  4.35  2.75"
      ]
     },
     "execution_count": 5,
     "metadata": {},
     "output_type": "execute_result"
    }
   ],
   "source": [
    "df.head()"
   ]
  },
  {
   "cell_type": "markdown",
   "id": "4bebb55a-36b7-4b09-9dce-4da81461d938",
   "metadata": {},
   "source": [
    "4. Напишите функцию для чтения набора данных из бриллианта DataFrame; на вход подаётся индекс, на выходе получаем информацию в формате серии"
   ]
  },
  {
   "cell_type": "code",
   "execution_count": 6,
   "id": "2830fb8c-b9c6-49c6-84d1-b051176a264b",
   "metadata": {},
   "outputs": [],
   "source": [
    "def print_index_series(df, index):\n",
    "    series = df.values[index]\n",
    "    print(series) "
   ]
  },
  {
   "cell_type": "code",
   "execution_count": 7,
   "id": "c476f12e-ad82-4060-b906-c63250f785c1",
   "metadata": {},
   "outputs": [
    {
     "name": "stdout",
     "output_type": "stream",
     "text": [
      "[0.29 'Premium' 'I' 'VS2' 62.4 58.0 334 4.2 4.23 2.63]\n"
     ]
    }
   ],
   "source": [
    "print_index_series(df, 3)"
   ]
  },
  {
   "cell_type": "markdown",
   "id": "e852785d-e55e-4c71-93ce-4b2d9958690e",
   "metadata": {},
   "source": [
    "5. Напишите программу Pandas, чтобы отфильтровать строки DataFrame так, чтобы вес в каратах составлял не менее 0,3."
   ]
  },
  {
   "cell_type": "code",
   "execution_count": 8,
   "id": "e26c32ba-2e2c-4781-909e-2051b15b6856",
   "metadata": {},
   "outputs": [
    {
     "data": {
      "text/html": [
       "<div>\n",
       "<style scoped>\n",
       "    .dataframe tbody tr th:only-of-type {\n",
       "        vertical-align: middle;\n",
       "    }\n",
       "\n",
       "    .dataframe tbody tr th {\n",
       "        vertical-align: top;\n",
       "    }\n",
       "\n",
       "    .dataframe thead th {\n",
       "        text-align: right;\n",
       "    }\n",
       "</style>\n",
       "<table border=\"1\" class=\"dataframe\">\n",
       "  <thead>\n",
       "    <tr style=\"text-align: right;\">\n",
       "      <th></th>\n",
       "      <th>carat</th>\n",
       "      <th>cut</th>\n",
       "      <th>color</th>\n",
       "      <th>clarity</th>\n",
       "      <th>depth</th>\n",
       "      <th>table</th>\n",
       "      <th>price</th>\n",
       "      <th>x</th>\n",
       "      <th>y</th>\n",
       "      <th>z</th>\n",
       "    </tr>\n",
       "  </thead>\n",
       "  <tbody>\n",
       "    <tr>\n",
       "      <th>5</th>\n",
       "      <td>0.31</td>\n",
       "      <td>Good</td>\n",
       "      <td>J</td>\n",
       "      <td>SI2</td>\n",
       "      <td>63.3</td>\n",
       "      <td>58.0</td>\n",
       "      <td>335</td>\n",
       "      <td>4.34</td>\n",
       "      <td>4.35</td>\n",
       "      <td>2.75</td>\n",
       "    </tr>\n",
       "    <tr>\n",
       "      <th>11</th>\n",
       "      <td>0.30</td>\n",
       "      <td>Good</td>\n",
       "      <td>J</td>\n",
       "      <td>SI1</td>\n",
       "      <td>64.0</td>\n",
       "      <td>55.0</td>\n",
       "      <td>339</td>\n",
       "      <td>4.25</td>\n",
       "      <td>4.28</td>\n",
       "      <td>2.73</td>\n",
       "    </tr>\n",
       "    <tr>\n",
       "      <th>14</th>\n",
       "      <td>0.31</td>\n",
       "      <td>Ideal</td>\n",
       "      <td>J</td>\n",
       "      <td>SI2</td>\n",
       "      <td>62.2</td>\n",
       "      <td>54.0</td>\n",
       "      <td>344</td>\n",
       "      <td>4.35</td>\n",
       "      <td>4.37</td>\n",
       "      <td>2.71</td>\n",
       "    </tr>\n",
       "    <tr>\n",
       "      <th>16</th>\n",
       "      <td>0.32</td>\n",
       "      <td>Premium</td>\n",
       "      <td>E</td>\n",
       "      <td>I1</td>\n",
       "      <td>60.9</td>\n",
       "      <td>58.0</td>\n",
       "      <td>345</td>\n",
       "      <td>4.38</td>\n",
       "      <td>4.42</td>\n",
       "      <td>2.68</td>\n",
       "    </tr>\n",
       "    <tr>\n",
       "      <th>17</th>\n",
       "      <td>0.30</td>\n",
       "      <td>Ideal</td>\n",
       "      <td>I</td>\n",
       "      <td>SI2</td>\n",
       "      <td>62.0</td>\n",
       "      <td>54.0</td>\n",
       "      <td>348</td>\n",
       "      <td>4.31</td>\n",
       "      <td>4.34</td>\n",
       "      <td>2.68</td>\n",
       "    </tr>\n",
       "  </tbody>\n",
       "</table>\n",
       "</div>"
      ],
      "text/plain": [
       "    carat      cut color clarity  depth  table  price     x     y     z\n",
       "5    0.31     Good     J     SI2   63.3   58.0    335  4.34  4.35  2.75\n",
       "11   0.30     Good     J     SI1   64.0   55.0    339  4.25  4.28  2.73\n",
       "14   0.31    Ideal     J     SI2   62.2   54.0    344  4.35  4.37  2.71\n",
       "16   0.32  Premium     E      I1   60.9   58.0    345  4.38  4.42  2.68\n",
       "17   0.30    Ideal     I     SI2   62.0   54.0    348  4.31  4.34  2.68"
      ]
     },
     "execution_count": 8,
     "metadata": {},
     "output_type": "execute_result"
    }
   ],
   "source": [
    "df_gr_03carat = df.loc[df['carat'] >= 0.3]\n",
    "df_gr_03carat.head()"
   ]
  },
  {
   "cell_type": "markdown",
   "id": "ac179055-b130-4aac-99a9-259a1ad84c84",
   "metadata": {},
   "source": [
    "6. Напишите программу Pandas, чтобы найти детали бриллиантов, где длина> 5, ширина> 5 и глубина> 5"
   ]
  },
  {
   "cell_type": "code",
   "execution_count": 9,
   "id": "479ab4c4-4de5-4455-b262-371ba22019b6",
   "metadata": {},
   "outputs": [
    {
     "data": {
      "text/html": [
       "<div>\n",
       "<style scoped>\n",
       "    .dataframe tbody tr th:only-of-type {\n",
       "        vertical-align: middle;\n",
       "    }\n",
       "\n",
       "    .dataframe tbody tr th {\n",
       "        vertical-align: top;\n",
       "    }\n",
       "\n",
       "    .dataframe thead th {\n",
       "        text-align: right;\n",
       "    }\n",
       "</style>\n",
       "<table border=\"1\" class=\"dataframe\">\n",
       "  <thead>\n",
       "    <tr style=\"text-align: right;\">\n",
       "      <th></th>\n",
       "      <th>carat</th>\n",
       "      <th>cut</th>\n",
       "      <th>color</th>\n",
       "      <th>clarity</th>\n",
       "      <th>depth</th>\n",
       "      <th>table</th>\n",
       "      <th>price</th>\n",
       "      <th>x</th>\n",
       "      <th>y</th>\n",
       "      <th>z</th>\n",
       "    </tr>\n",
       "  </thead>\n",
       "  <tbody>\n",
       "    <tr>\n",
       "      <th>11779</th>\n",
       "      <td>1.83</td>\n",
       "      <td>Fair</td>\n",
       "      <td>J</td>\n",
       "      <td>I1</td>\n",
       "      <td>70.0</td>\n",
       "      <td>58.0</td>\n",
       "      <td>5083</td>\n",
       "      <td>7.34</td>\n",
       "      <td>7.28</td>\n",
       "      <td>5.12</td>\n",
       "    </tr>\n",
       "    <tr>\n",
       "      <th>13003</th>\n",
       "      <td>2.14</td>\n",
       "      <td>Fair</td>\n",
       "      <td>J</td>\n",
       "      <td>I1</td>\n",
       "      <td>69.4</td>\n",
       "      <td>57.0</td>\n",
       "      <td>5405</td>\n",
       "      <td>7.74</td>\n",
       "      <td>7.70</td>\n",
       "      <td>5.36</td>\n",
       "    </tr>\n",
       "    <tr>\n",
       "      <th>13119</th>\n",
       "      <td>2.15</td>\n",
       "      <td>Fair</td>\n",
       "      <td>J</td>\n",
       "      <td>I1</td>\n",
       "      <td>65.5</td>\n",
       "      <td>57.0</td>\n",
       "      <td>5430</td>\n",
       "      <td>8.01</td>\n",
       "      <td>7.95</td>\n",
       "      <td>5.23</td>\n",
       "    </tr>\n",
       "    <tr>\n",
       "      <th>13563</th>\n",
       "      <td>1.96</td>\n",
       "      <td>Fair</td>\n",
       "      <td>F</td>\n",
       "      <td>I1</td>\n",
       "      <td>66.6</td>\n",
       "      <td>60.0</td>\n",
       "      <td>5554</td>\n",
       "      <td>7.59</td>\n",
       "      <td>7.56</td>\n",
       "      <td>5.04</td>\n",
       "    </tr>\n",
       "    <tr>\n",
       "      <th>13758</th>\n",
       "      <td>2.22</td>\n",
       "      <td>Fair</td>\n",
       "      <td>J</td>\n",
       "      <td>I1</td>\n",
       "      <td>66.7</td>\n",
       "      <td>56.0</td>\n",
       "      <td>5607</td>\n",
       "      <td>8.04</td>\n",
       "      <td>8.02</td>\n",
       "      <td>5.36</td>\n",
       "    </tr>\n",
       "  </tbody>\n",
       "</table>\n",
       "</div>"
      ],
      "text/plain": [
       "       carat   cut color clarity  depth  table  price     x     y     z\n",
       "11779   1.83  Fair     J      I1   70.0   58.0   5083  7.34  7.28  5.12\n",
       "13003   2.14  Fair     J      I1   69.4   57.0   5405  7.74  7.70  5.36\n",
       "13119   2.15  Fair     J      I1   65.5   57.0   5430  8.01  7.95  5.23\n",
       "13563   1.96  Fair     F      I1   66.6   60.0   5554  7.59  7.56  5.04\n",
       "13758   2.22  Fair     J      I1   66.7   56.0   5607  8.04  8.02  5.36"
      ]
     },
     "execution_count": 9,
     "metadata": {},
     "output_type": "execute_result"
    }
   ],
   "source": [
    "df_x5_y5_z5 = df.loc[(df['x'] >= 5) & (df['y'] >= 5) & (df['z'] >= 5)]\n",
    "df_x5_y5_z5.head()"
   ]
  },
  {
   "cell_type": "markdown",
   "id": "4af7d6b1-df14-406f-9e93-b91311099de4",
   "metadata": {},
   "source": [
    "#### SymPy"
   ]
  },
  {
   "cell_type": "code",
   "execution_count": 10,
   "id": "20e49ef7-f1d0-493b-9e77-b97529c40fdd",
   "metadata": {},
   "outputs": [],
   "source": [
    "# pip install sympy"
   ]
  },
  {
   "cell_type": "code",
   "execution_count": 11,
   "id": "0edfa8d3-fdae-4add-9b81-16bbfce0450c",
   "metadata": {},
   "outputs": [],
   "source": [
    "import sympy\n",
    "from sympy import *\n",
    "x = symbols('x')\n",
    "f = Function('f')"
   ]
  },
  {
   "cell_type": "markdown",
   "id": "8a132d55-c53c-46b7-85dc-cd116d5f3345",
   "metadata": {},
   "source": [
    "$f(x) = -12x^4sin(cos(x)) - 18x^3+5x^2 + 10x - 30$"
   ]
  },
  {
   "cell_type": "code",
   "execution_count": 12,
   "id": "0a30b7a6-d1bb-4aa4-a4d2-9e8f9cc674d9",
   "metadata": {},
   "outputs": [
    {
     "data": {
      "text/latex": [
       "$\\displaystyle f{\\left(x \\right)} = - 12 x^{4} \\sin{\\left(\\cos{\\left(x \\right)} \\right)} - 18 x^{3} + 5 x^{2} + 10 x - 30$"
      ],
      "text/plain": [
       "Eq(f(x), -12*x**4*sin(cos(x)) - 18*x**3 + 5*x**2 + 10*x - 30)"
      ]
     },
     "execution_count": 12,
     "metadata": {},
     "output_type": "execute_result"
    }
   ],
   "source": [
    "Eq(f(x), -12 * x**4 * sin(cos(x)) - 18 * x**3 + 5 * x**2 + 10 * x - 30)"
   ]
  },
  {
   "cell_type": "markdown",
   "id": "5a588577-2dd7-4b7a-bb83-0bb3d6a69935",
   "metadata": {},
   "source": [
    "    1. Определить корни"
   ]
  },
  {
   "cell_type": "code",
   "execution_count": 13,
   "id": "240feac2-bb3b-45b3-8d99-fb63e78e140e",
   "metadata": {},
   "outputs": [
    {
     "data": {
      "text/latex": [
       "$\\displaystyle \\left\\{x\\; \\middle|\\; x \\in \\mathbb{C} \\wedge - 12 x^{4} \\sin{\\left(\\cos{\\left(x \\right)} \\right)} - 18 x^{3} + 5 x^{2} + 10 x - 30 = 0 \\right\\}$"
      ],
      "text/plain": [
       "ConditionSet(x, Eq(-12*x**4*sin(cos(x)) - 18*x**3 + 5*x**2 + 10*x - 30, 0), Complexes)"
      ]
     },
     "execution_count": 13,
     "metadata": {},
     "output_type": "execute_result"
    }
   ],
   "source": [
    "solveset(Eq(-12 * x**4 * sin(cos(x)) - 18 * x**3 + 5 * x**2 + 10 * x - 30, 0), x)"
   ]
  },
  {
   "cell_type": "markdown",
   "id": "39b89d53-46bc-4563-8e03-2320e4bc6d20",
   "metadata": {},
   "source": [
    "    2. Найти интервалы, на которых функция возрастает"
   ]
  },
  {
   "cell_type": "code",
   "execution_count": 14,
   "id": "79ece0fb-5355-4e3b-96c5-23bb0b81a0a5",
   "metadata": {},
   "outputs": [
    {
     "data": {
      "text/latex": [
       "$\\displaystyle 12 x^{4} \\sin{\\left(x \\right)} \\cos{\\left(\\cos{\\left(x \\right)} \\right)} - 48 x^{3} \\sin{\\left(\\cos{\\left(x \\right)} \\right)} - 54 x^{2} + 10 x + 10$"
      ],
      "text/plain": [
       "12*x**4*sin(x)*cos(cos(x)) - 48*x**3*sin(cos(x)) - 54*x**2 + 10*x + 10"
      ]
     },
     "execution_count": 14,
     "metadata": {},
     "output_type": "execute_result"
    }
   ],
   "source": [
    "diff_fx = (-12 * x**4 * sin(cos(x)) - 18 * x**3 + 5 * x**2 + 10 * x - 30).diff(x)\n",
    "diff_fx"
   ]
  },
  {
   "cell_type": "code",
   "execution_count": 15,
   "id": "396f34ba-82a3-4f54-872d-806b9f5097ad",
   "metadata": {},
   "outputs": [
    {
     "ename": "NameError",
     "evalue": "name 'reduce_rational_inequalities' is not defined",
     "output_type": "error",
     "traceback": [
      "\u001b[1;31m---------------------------------------------------------------------------\u001b[0m",
      "\u001b[1;31mNameError\u001b[0m                                 Traceback (most recent call last)",
      "Input \u001b[1;32mIn [15]\u001b[0m, in \u001b[0;36m<cell line: 1>\u001b[1;34m()\u001b[0m\n\u001b[1;32m----> 1\u001b[0m \u001b[43mreduce_rational_inequalities\u001b[49m([[diff_fx \u001b[38;5;241m>\u001b[39m \u001b[38;5;241m0\u001b[39m]], x)\n",
      "\u001b[1;31mNameError\u001b[0m: name 'reduce_rational_inequalities' is not defined"
     ]
    }
   ],
   "source": [
    "reduce_rational_inequalities([[diff_fx > 0]], x)"
   ]
  },
  {
   "cell_type": "markdown",
   "id": "0d2e2756-aa43-4b07-81d6-c990f811c910",
   "metadata": {},
   "source": [
    "    3. Найти интервалы, на которых функция убывает"
   ]
  },
  {
   "cell_type": "code",
   "execution_count": 16,
   "id": "448bb236-a6a6-44c3-ad11-bbee02f28189",
   "metadata": {},
   "outputs": [
    {
     "ename": "NameError",
     "evalue": "name 'reduce_rational_inequalities' is not defined",
     "output_type": "error",
     "traceback": [
      "\u001b[1;31m---------------------------------------------------------------------------\u001b[0m",
      "\u001b[1;31mNameError\u001b[0m                                 Traceback (most recent call last)",
      "Input \u001b[1;32mIn [16]\u001b[0m, in \u001b[0;36m<cell line: 1>\u001b[1;34m()\u001b[0m\n\u001b[1;32m----> 1\u001b[0m \u001b[43mreduce_rational_inequalities\u001b[49m([[diff_fx \u001b[38;5;241m<\u001b[39m \u001b[38;5;241m0\u001b[39m]], x)\n",
      "\u001b[1;31mNameError\u001b[0m: name 'reduce_rational_inequalities' is not defined"
     ]
    }
   ],
   "source": [
    "reduce_rational_inequalities([[diff_fx < 0]], x)"
   ]
  },
  {
   "cell_type": "markdown",
   "id": "f5d5cdcc-8999-455d-9e93-ef52c2d06d95",
   "metadata": {},
   "source": [
    "    4. Построить график"
   ]
  },
  {
   "cell_type": "code",
   "execution_count": 17,
   "id": "37bc4609-bd5d-4d6e-8168-538e863c4776",
   "metadata": {},
   "outputs": [
    {
     "data": {
      "image/png": "[encoded data removed]",
      "text/plain": [
       "<Figure size 432x288 with 1 Axes>"
      ]
     },
     "metadata": {
      "needs_background": "light"
     },
     "output_type": "display_data"
    },
    {
     "data": {
      "text/plain": [
       "<sympy.plotting.plot.Plot at 0x1bb7a6c03a0>"
      ]
     },
     "execution_count": 17,
     "metadata": {},
     "output_type": "execute_result"
    }
   ],
   "source": [
    "from sympy import symbols\n",
    "from sympy.plotting import plot\n",
    "\n",
    "plot(-12 * x**4 * sin(cos(x)) - 18 * x**3 + 5 * x**2 + 10 * x - 30)"
   ]
  },
  {
   "cell_type": "markdown",
   "id": "5f5ad69f-7137-4ea0-8b51-9375640e232c",
   "metadata": {},
   "source": [
    "    5. Вычислить вершину"
   ]
  },
  {
   "cell_type": "code",
   "execution_count": 18,
   "id": "e78467db-2ce8-49bb-b0ea-429d4db074d3",
   "metadata": {},
   "outputs": [
    {
     "data": {
      "text/latex": [
       "$\\displaystyle \\left\\{x\\; \\middle|\\; x \\in \\mathbb{C} \\wedge 12 x^{4} \\sin{\\left(x \\right)} \\cos{\\left(\\cos{\\left(x \\right)} \\right)} - 48 x^{3} \\sin{\\left(\\cos{\\left(x \\right)} \\right)} - 54 x^{2} + 10 x + 10 = 0 \\right\\}$"
      ],
      "text/plain": [
       "ConditionSet(x, Eq(12*x**4*sin(x)*cos(cos(x)) - 48*x**3*sin(cos(x)) - 54*x**2 + 10*x + 10, 0), Complexes)"
      ]
     },
     "execution_count": 18,
     "metadata": {},
     "output_type": "execute_result"
    }
   ],
   "source": [
    "solveset(Eq(diff_fx, 0), x)"
   ]
  },
  {
   "cell_type": "markdown",
   "id": "30be7514-ccf7-4a09-bb55-fa9328e130c0",
   "metadata": {},
   "source": [
    "    6. Определить промежутки, на котором f > 0"
   ]
  },
  {
   "cell_type": "code",
   "execution_count": 19,
   "id": "0a56c6bd-2ef6-4fa7-8fe6-a3b4e9ce9dd0",
   "metadata": {},
   "outputs": [],
   "source": [
    "from sympy import solve_univariate_inequality\n",
    "from sympy.solvers.inequalities import solve_poly_inequalities\n",
    "from sympy.solvers.inequalities import reduce_rational_inequalities"
   ]
  },
  {
   "cell_type": "code",
   "execution_count": 20,
   "id": "121f1d63-3d81-4fa7-b058-082b7a0dffaa",
   "metadata": {},
   "outputs": [
    {
     "ename": "PolynomialError",
     "evalue": "\nonly polynomials and rational functions are supported in this context.",
     "output_type": "error",
     "traceback": [
      "\u001b[1;31m---------------------------------------------------------------------------\u001b[0m",
      "\u001b[1;31mKeyError\u001b[0m                                  Traceback (most recent call last)",
      "File \u001b[1;32m~\\anaconda3\\lib\\site-packages\\sympy\\polys\\polyutils.py:211\u001b[0m, in \u001b[0;36m_parallel_dict_from_expr_if_gens\u001b[1;34m(exprs, opt)\u001b[0m\n\u001b[0;32m    209\u001b[0m         base, exp \u001b[38;5;241m=\u001b[39m decompose_power_rat(factor)\n\u001b[1;32m--> 211\u001b[0m     monom[\u001b[43mindices\u001b[49m\u001b[43m[\u001b[49m\u001b[43mbase\u001b[49m\u001b[43m]\u001b[49m] \u001b[38;5;241m=\u001b[39m exp\n\u001b[0;32m    212\u001b[0m \u001b[38;5;28;01mexcept\u001b[39;00m \u001b[38;5;167;01mKeyError\u001b[39;00m:\n",
      "\u001b[1;31mKeyError\u001b[0m: sin(cos(x))",
      "\nDuring handling of the above exception, another exception occurred:\n",
      "\u001b[1;31mPolynomialError\u001b[0m                           Traceback (most recent call last)",
      "File \u001b[1;32m~\\anaconda3\\lib\\site-packages\\sympy\\solvers\\inequalities.py:246\u001b[0m, in \u001b[0;36mreduce_rational_inequalities\u001b[1;34m(exprs, gen, relational)\u001b[0m\n\u001b[0;32m    245\u001b[0m \u001b[38;5;28;01mtry\u001b[39;00m:\n\u001b[1;32m--> 246\u001b[0m     (numer, denom), opt \u001b[38;5;241m=\u001b[39m \u001b[43mparallel_poly_from_expr\u001b[49m\u001b[43m(\u001b[49m\n\u001b[0;32m    247\u001b[0m \u001b[43m        \u001b[49m\u001b[43m(\u001b[49m\u001b[43mnumer\u001b[49m\u001b[43m,\u001b[49m\u001b[43m \u001b[49m\u001b[43mdenom\u001b[49m\u001b[43m)\u001b[49m\u001b[43m,\u001b[49m\u001b[43m \u001b[49m\u001b[43mgen\u001b[49m\u001b[43m)\u001b[49m\n\u001b[0;32m    248\u001b[0m \u001b[38;5;28;01mexcept\u001b[39;00m PolynomialError:\n",
      "File \u001b[1;32m~\\anaconda3\\lib\\site-packages\\sympy\\polys\\polytools.py:4414\u001b[0m, in \u001b[0;36mparallel_poly_from_expr\u001b[1;34m(exprs, *gens, **args)\u001b[0m\n\u001b[0;32m   4413\u001b[0m opt \u001b[38;5;241m=\u001b[39m options\u001b[38;5;241m.\u001b[39mbuild_options(gens, args)\n\u001b[1;32m-> 4414\u001b[0m \u001b[38;5;28;01mreturn\u001b[39;00m \u001b[43m_parallel_poly_from_expr\u001b[49m\u001b[43m(\u001b[49m\u001b[43mexprs\u001b[49m\u001b[43m,\u001b[49m\u001b[43m \u001b[49m\u001b[43mopt\u001b[49m\u001b[43m)\u001b[49m\n",
      "File \u001b[1;32m~\\anaconda3\\lib\\site-packages\\sympy\\polys\\polytools.py:4467\u001b[0m, in \u001b[0;36m_parallel_poly_from_expr\u001b[1;34m(exprs, opt)\u001b[0m\n\u001b[0;32m   4465\u001b[0m         exprs[i] \u001b[38;5;241m=\u001b[39m exprs[i]\u001b[38;5;241m.\u001b[39mas_expr()\n\u001b[1;32m-> 4467\u001b[0m reps, opt \u001b[38;5;241m=\u001b[39m \u001b[43m_parallel_dict_from_expr\u001b[49m\u001b[43m(\u001b[49m\u001b[43mexprs\u001b[49m\u001b[43m,\u001b[49m\u001b[43m \u001b[49m\u001b[43mopt\u001b[49m\u001b[43m)\u001b[49m\n\u001b[0;32m   4468\u001b[0m \u001b[38;5;28;01mif\u001b[39;00m \u001b[38;5;129;01mnot\u001b[39;00m opt\u001b[38;5;241m.\u001b[39mgens:\n",
      "File \u001b[1;32m~\\anaconda3\\lib\\site-packages\\sympy\\polys\\polyutils.py:332\u001b[0m, in \u001b[0;36m_parallel_dict_from_expr\u001b[1;34m(exprs, opt)\u001b[0m\n\u001b[0;32m    331\u001b[0m \u001b[38;5;28;01mif\u001b[39;00m opt\u001b[38;5;241m.\u001b[39mgens:\n\u001b[1;32m--> 332\u001b[0m     reps, gens \u001b[38;5;241m=\u001b[39m \u001b[43m_parallel_dict_from_expr_if_gens\u001b[49m\u001b[43m(\u001b[49m\u001b[43mexprs\u001b[49m\u001b[43m,\u001b[49m\u001b[43m \u001b[49m\u001b[43mopt\u001b[49m\u001b[43m)\u001b[49m\n\u001b[0;32m    333\u001b[0m \u001b[38;5;28;01melse\u001b[39;00m:\n",
      "File \u001b[1;32m~\\anaconda3\\lib\\site-packages\\sympy\\polys\\polyutils.py:216\u001b[0m, in \u001b[0;36m_parallel_dict_from_expr_if_gens\u001b[1;34m(exprs, opt)\u001b[0m\n\u001b[0;32m    215\u001b[0m             \u001b[38;5;28;01melse\u001b[39;00m:\n\u001b[1;32m--> 216\u001b[0m                 \u001b[38;5;28;01mraise\u001b[39;00m PolynomialError(\u001b[38;5;124m\"\u001b[39m\u001b[38;5;132;01m%s\u001b[39;00m\u001b[38;5;124m contains an element of \u001b[39m\u001b[38;5;124m\"\u001b[39m\n\u001b[0;32m    217\u001b[0m                                       \u001b[38;5;124m\"\u001b[39m\u001b[38;5;124mthe set of generators.\u001b[39m\u001b[38;5;124m\"\u001b[39m \u001b[38;5;241m%\u001b[39m factor)\n\u001b[0;32m    219\u001b[0m monom \u001b[38;5;241m=\u001b[39m \u001b[38;5;28mtuple\u001b[39m(monom)\n",
      "\u001b[1;31mPolynomialError\u001b[0m: sin(cos(x)) contains an element of the set of generators.",
      "\nDuring handling of the above exception, another exception occurred:\n",
      "\u001b[1;31mPolynomialError\u001b[0m                           Traceback (most recent call last)",
      "Input \u001b[1;32mIn [20]\u001b[0m, in \u001b[0;36m<cell line: 1>\u001b[1;34m()\u001b[0m\n\u001b[1;32m----> 1\u001b[0m \u001b[43mreduce_rational_inequalities\u001b[49m\u001b[43m(\u001b[49m\u001b[43m[\u001b[49m\u001b[43m[\u001b[49m\u001b[38;5;241;43m-\u001b[39;49m\u001b[38;5;241;43m12\u001b[39;49m\u001b[43m \u001b[49m\u001b[38;5;241;43m*\u001b[39;49m\u001b[43m \u001b[49m\u001b[43mx\u001b[49m\u001b[38;5;241;43m*\u001b[39;49m\u001b[38;5;241;43m*\u001b[39;49m\u001b[38;5;241;43m4\u001b[39;49m\u001b[43m \u001b[49m\u001b[38;5;241;43m*\u001b[39;49m\u001b[43m \u001b[49m\u001b[43msin\u001b[49m\u001b[43m(\u001b[49m\u001b[43mcos\u001b[49m\u001b[43m(\u001b[49m\u001b[43mx\u001b[49m\u001b[43m)\u001b[49m\u001b[43m)\u001b[49m\u001b[43m \u001b[49m\u001b[38;5;241;43m-\u001b[39;49m\u001b[43m \u001b[49m\u001b[38;5;241;43m18\u001b[39;49m\u001b[43m \u001b[49m\u001b[38;5;241;43m*\u001b[39;49m\u001b[43m \u001b[49m\u001b[43mx\u001b[49m\u001b[38;5;241;43m*\u001b[39;49m\u001b[38;5;241;43m*\u001b[39;49m\u001b[38;5;241;43m3\u001b[39;49m\u001b[43m \u001b[49m\u001b[38;5;241;43m+\u001b[39;49m\u001b[43m \u001b[49m\u001b[38;5;241;43m5\u001b[39;49m\u001b[43m \u001b[49m\u001b[38;5;241;43m*\u001b[39;49m\u001b[43m \u001b[49m\u001b[43mx\u001b[49m\u001b[38;5;241;43m*\u001b[39;49m\u001b[38;5;241;43m*\u001b[39;49m\u001b[38;5;241;43m2\u001b[39;49m\u001b[43m \u001b[49m\u001b[38;5;241;43m+\u001b[39;49m\u001b[43m \u001b[49m\u001b[38;5;241;43m10\u001b[39;49m\u001b[43m \u001b[49m\u001b[38;5;241;43m*\u001b[39;49m\u001b[43m \u001b[49m\u001b[43mx\u001b[49m\u001b[43m \u001b[49m\u001b[38;5;241;43m-\u001b[39;49m\u001b[43m \u001b[49m\u001b[38;5;241;43m30\u001b[39;49m\u001b[43m \u001b[49m\u001b[38;5;241;43m>\u001b[39;49m\u001b[43m \u001b[49m\u001b[38;5;241;43m0\u001b[39;49m\u001b[43m]\u001b[49m\u001b[43m]\u001b[49m\u001b[43m,\u001b[49m\u001b[43m \u001b[49m\u001b[43mx\u001b[49m\u001b[43m)\u001b[49m\n",
      "File \u001b[1;32m~\\anaconda3\\lib\\site-packages\\sympy\\solvers\\inequalities.py:249\u001b[0m, in \u001b[0;36mreduce_rational_inequalities\u001b[1;34m(exprs, gen, relational)\u001b[0m\n\u001b[0;32m    246\u001b[0m     (numer, denom), opt \u001b[38;5;241m=\u001b[39m parallel_poly_from_expr(\n\u001b[0;32m    247\u001b[0m         (numer, denom), gen)\n\u001b[0;32m    248\u001b[0m \u001b[38;5;28;01mexcept\u001b[39;00m PolynomialError:\n\u001b[1;32m--> 249\u001b[0m     \u001b[38;5;28;01mraise\u001b[39;00m PolynomialError(filldedent(\u001b[38;5;124m'''\u001b[39m\n\u001b[0;32m    250\u001b[0m \u001b[38;5;124m        only polynomials and rational functions are\u001b[39m\n\u001b[0;32m    251\u001b[0m \u001b[38;5;124m        supported in this context.\u001b[39m\n\u001b[0;32m    252\u001b[0m \u001b[38;5;124m        \u001b[39m\u001b[38;5;124m'''\u001b[39m))\n\u001b[0;32m    254\u001b[0m \u001b[38;5;28;01mif\u001b[39;00m \u001b[38;5;129;01mnot\u001b[39;00m opt\u001b[38;5;241m.\u001b[39mdomain\u001b[38;5;241m.\u001b[39mis_Exact:\n\u001b[0;32m    255\u001b[0m     numer, denom, exact \u001b[38;5;241m=\u001b[39m numer\u001b[38;5;241m.\u001b[39mto_exact(), denom\u001b[38;5;241m.\u001b[39mto_exact(), \u001b[38;5;28;01mFalse\u001b[39;00m\n",
      "\u001b[1;31mPolynomialError\u001b[0m: \nonly polynomials and rational functions are supported in this context."
     ]
    }
   ],
   "source": [
    "reduce_rational_inequalities([[-12 * x**4 * sin(cos(x)) - 18 * x**3 + 5 * x**2 + 10 * x - 30 > 0]], x)"
   ]
  },
  {
   "cell_type": "markdown",
   "id": "ff8f88b8-8f68-4f6c-9405-956226ce603a",
   "metadata": {},
   "source": [
    "    7. Определить промежутки, на котором f < 0"
   ]
  },
  {
   "cell_type": "code",
   "execution_count": 21,
   "id": "6c58fc85-da76-4d7d-bd3e-3607027db6e4",
   "metadata": {},
   "outputs": [
    {
     "ename": "PolynomialError",
     "evalue": "\nonly polynomials and rational functions are supported in this context.",
     "output_type": "error",
     "traceback": [
      "\u001b[1;31m---------------------------------------------------------------------------\u001b[0m",
      "\u001b[1;31mKeyError\u001b[0m                                  Traceback (most recent call last)",
      "File \u001b[1;32m~\\anaconda3\\lib\\site-packages\\sympy\\polys\\polyutils.py:211\u001b[0m, in \u001b[0;36m_parallel_dict_from_expr_if_gens\u001b[1;34m(exprs, opt)\u001b[0m\n\u001b[0;32m    209\u001b[0m         base, exp \u001b[38;5;241m=\u001b[39m decompose_power_rat(factor)\n\u001b[1;32m--> 211\u001b[0m     monom[\u001b[43mindices\u001b[49m\u001b[43m[\u001b[49m\u001b[43mbase\u001b[49m\u001b[43m]\u001b[49m] \u001b[38;5;241m=\u001b[39m exp\n\u001b[0;32m    212\u001b[0m \u001b[38;5;28;01mexcept\u001b[39;00m \u001b[38;5;167;01mKeyError\u001b[39;00m:\n",
      "\u001b[1;31mKeyError\u001b[0m: sin(cos(x))",
      "\nDuring handling of the above exception, another exception occurred:\n",
      "\u001b[1;31mPolynomialError\u001b[0m                           Traceback (most recent call last)",
      "File \u001b[1;32m~\\anaconda3\\lib\\site-packages\\sympy\\solvers\\inequalities.py:246\u001b[0m, in \u001b[0;36mreduce_rational_inequalities\u001b[1;34m(exprs, gen, relational)\u001b[0m\n\u001b[0;32m    245\u001b[0m \u001b[38;5;28;01mtry\u001b[39;00m:\n\u001b[1;32m--> 246\u001b[0m     (numer, denom), opt \u001b[38;5;241m=\u001b[39m \u001b[43mparallel_poly_from_expr\u001b[49m\u001b[43m(\u001b[49m\n\u001b[0;32m    247\u001b[0m \u001b[43m        \u001b[49m\u001b[43m(\u001b[49m\u001b[43mnumer\u001b[49m\u001b[43m,\u001b[49m\u001b[43m \u001b[49m\u001b[43mdenom\u001b[49m\u001b[43m)\u001b[49m\u001b[43m,\u001b[49m\u001b[43m \u001b[49m\u001b[43mgen\u001b[49m\u001b[43m)\u001b[49m\n\u001b[0;32m    248\u001b[0m \u001b[38;5;28;01mexcept\u001b[39;00m PolynomialError:\n",
      "File \u001b[1;32m~\\anaconda3\\lib\\site-packages\\sympy\\polys\\polytools.py:4414\u001b[0m, in \u001b[0;36mparallel_poly_from_expr\u001b[1;34m(exprs, *gens, **args)\u001b[0m\n\u001b[0;32m   4413\u001b[0m opt \u001b[38;5;241m=\u001b[39m options\u001b[38;5;241m.\u001b[39mbuild_options(gens, args)\n\u001b[1;32m-> 4414\u001b[0m \u001b[38;5;28;01mreturn\u001b[39;00m \u001b[43m_parallel_poly_from_expr\u001b[49m\u001b[43m(\u001b[49m\u001b[43mexprs\u001b[49m\u001b[43m,\u001b[49m\u001b[43m \u001b[49m\u001b[43mopt\u001b[49m\u001b[43m)\u001b[49m\n",
      "File \u001b[1;32m~\\anaconda3\\lib\\site-packages\\sympy\\polys\\polytools.py:4467\u001b[0m, in \u001b[0;36m_parallel_poly_from_expr\u001b[1;34m(exprs, opt)\u001b[0m\n\u001b[0;32m   4465\u001b[0m         exprs[i] \u001b[38;5;241m=\u001b[39m exprs[i]\u001b[38;5;241m.\u001b[39mas_expr()\n\u001b[1;32m-> 4467\u001b[0m reps, opt \u001b[38;5;241m=\u001b[39m \u001b[43m_parallel_dict_from_expr\u001b[49m\u001b[43m(\u001b[49m\u001b[43mexprs\u001b[49m\u001b[43m,\u001b[49m\u001b[43m \u001b[49m\u001b[43mopt\u001b[49m\u001b[43m)\u001b[49m\n\u001b[0;32m   4468\u001b[0m \u001b[38;5;28;01mif\u001b[39;00m \u001b[38;5;129;01mnot\u001b[39;00m opt\u001b[38;5;241m.\u001b[39mgens:\n",
      "File \u001b[1;32m~\\anaconda3\\lib\\site-packages\\sympy\\polys\\polyutils.py:332\u001b[0m, in \u001b[0;36m_parallel_dict_from_expr\u001b[1;34m(exprs, opt)\u001b[0m\n\u001b[0;32m    331\u001b[0m \u001b[38;5;28;01mif\u001b[39;00m opt\u001b[38;5;241m.\u001b[39mgens:\n\u001b[1;32m--> 332\u001b[0m     reps, gens \u001b[38;5;241m=\u001b[39m \u001b[43m_parallel_dict_from_expr_if_gens\u001b[49m\u001b[43m(\u001b[49m\u001b[43mexprs\u001b[49m\u001b[43m,\u001b[49m\u001b[43m \u001b[49m\u001b[43mopt\u001b[49m\u001b[43m)\u001b[49m\n\u001b[0;32m    333\u001b[0m \u001b[38;5;28;01melse\u001b[39;00m:\n",
      "File \u001b[1;32m~\\anaconda3\\lib\\site-packages\\sympy\\polys\\polyutils.py:216\u001b[0m, in \u001b[0;36m_parallel_dict_from_expr_if_gens\u001b[1;34m(exprs, opt)\u001b[0m\n\u001b[0;32m    215\u001b[0m             \u001b[38;5;28;01melse\u001b[39;00m:\n\u001b[1;32m--> 216\u001b[0m                 \u001b[38;5;28;01mraise\u001b[39;00m PolynomialError(\u001b[38;5;124m\"\u001b[39m\u001b[38;5;132;01m%s\u001b[39;00m\u001b[38;5;124m contains an element of \u001b[39m\u001b[38;5;124m\"\u001b[39m\n\u001b[0;32m    217\u001b[0m                                       \u001b[38;5;124m\"\u001b[39m\u001b[38;5;124mthe set of generators.\u001b[39m\u001b[38;5;124m\"\u001b[39m \u001b[38;5;241m%\u001b[39m factor)\n\u001b[0;32m    219\u001b[0m monom \u001b[38;5;241m=\u001b[39m \u001b[38;5;28mtuple\u001b[39m(monom)\n",
      "\u001b[1;31mPolynomialError\u001b[0m: sin(cos(x)) contains an element of the set of generators.",
      "\nDuring handling of the above exception, another exception occurred:\n",
      "\u001b[1;31mPolynomialError\u001b[0m                           Traceback (most recent call last)",
      "Input \u001b[1;32mIn [21]\u001b[0m, in \u001b[0;36m<cell line: 1>\u001b[1;34m()\u001b[0m\n\u001b[1;32m----> 1\u001b[0m \u001b[43mreduce_rational_inequalities\u001b[49m\u001b[43m(\u001b[49m\u001b[43m[\u001b[49m\u001b[43m[\u001b[49m\u001b[38;5;241;43m-\u001b[39;49m\u001b[38;5;241;43m12\u001b[39;49m\u001b[43m \u001b[49m\u001b[38;5;241;43m*\u001b[39;49m\u001b[43m \u001b[49m\u001b[43mx\u001b[49m\u001b[38;5;241;43m*\u001b[39;49m\u001b[38;5;241;43m*\u001b[39;49m\u001b[38;5;241;43m4\u001b[39;49m\u001b[43m \u001b[49m\u001b[38;5;241;43m*\u001b[39;49m\u001b[43m \u001b[49m\u001b[43msin\u001b[49m\u001b[43m(\u001b[49m\u001b[43mcos\u001b[49m\u001b[43m(\u001b[49m\u001b[43mx\u001b[49m\u001b[43m)\u001b[49m\u001b[43m)\u001b[49m\u001b[43m \u001b[49m\u001b[38;5;241;43m-\u001b[39;49m\u001b[43m \u001b[49m\u001b[38;5;241;43m18\u001b[39;49m\u001b[43m \u001b[49m\u001b[38;5;241;43m*\u001b[39;49m\u001b[43m \u001b[49m\u001b[43mx\u001b[49m\u001b[38;5;241;43m*\u001b[39;49m\u001b[38;5;241;43m*\u001b[39;49m\u001b[38;5;241;43m3\u001b[39;49m\u001b[43m \u001b[49m\u001b[38;5;241;43m+\u001b[39;49m\u001b[43m \u001b[49m\u001b[38;5;241;43m5\u001b[39;49m\u001b[43m \u001b[49m\u001b[38;5;241;43m*\u001b[39;49m\u001b[43m \u001b[49m\u001b[43mx\u001b[49m\u001b[38;5;241;43m*\u001b[39;49m\u001b[38;5;241;43m*\u001b[39;49m\u001b[38;5;241;43m2\u001b[39;49m\u001b[43m \u001b[49m\u001b[38;5;241;43m+\u001b[39;49m\u001b[43m \u001b[49m\u001b[38;5;241;43m10\u001b[39;49m\u001b[43m \u001b[49m\u001b[38;5;241;43m*\u001b[39;49m\u001b[43m \u001b[49m\u001b[43mx\u001b[49m\u001b[43m \u001b[49m\u001b[38;5;241;43m-\u001b[39;49m\u001b[43m \u001b[49m\u001b[38;5;241;43m30\u001b[39;49m\u001b[43m \u001b[49m\u001b[38;5;241;43m<\u001b[39;49m\u001b[43m \u001b[49m\u001b[38;5;241;43m0\u001b[39;49m\u001b[43m]\u001b[49m\u001b[43m]\u001b[49m\u001b[43m,\u001b[49m\u001b[43m \u001b[49m\u001b[43mx\u001b[49m\u001b[43m)\u001b[49m\n",
      "File \u001b[1;32m~\\anaconda3\\lib\\site-packages\\sympy\\solvers\\inequalities.py:249\u001b[0m, in \u001b[0;36mreduce_rational_inequalities\u001b[1;34m(exprs, gen, relational)\u001b[0m\n\u001b[0;32m    246\u001b[0m     (numer, denom), opt \u001b[38;5;241m=\u001b[39m parallel_poly_from_expr(\n\u001b[0;32m    247\u001b[0m         (numer, denom), gen)\n\u001b[0;32m    248\u001b[0m \u001b[38;5;28;01mexcept\u001b[39;00m PolynomialError:\n\u001b[1;32m--> 249\u001b[0m     \u001b[38;5;28;01mraise\u001b[39;00m PolynomialError(filldedent(\u001b[38;5;124m'''\u001b[39m\n\u001b[0;32m    250\u001b[0m \u001b[38;5;124m        only polynomials and rational functions are\u001b[39m\n\u001b[0;32m    251\u001b[0m \u001b[38;5;124m        supported in this context.\u001b[39m\n\u001b[0;32m    252\u001b[0m \u001b[38;5;124m        \u001b[39m\u001b[38;5;124m'''\u001b[39m))\n\u001b[0;32m    254\u001b[0m \u001b[38;5;28;01mif\u001b[39;00m \u001b[38;5;129;01mnot\u001b[39;00m opt\u001b[38;5;241m.\u001b[39mdomain\u001b[38;5;241m.\u001b[39mis_Exact:\n\u001b[0;32m    255\u001b[0m     numer, denom, exact \u001b[38;5;241m=\u001b[39m numer\u001b[38;5;241m.\u001b[39mto_exact(), denom\u001b[38;5;241m.\u001b[39mto_exact(), \u001b[38;5;28;01mFalse\u001b[39;00m\n",
      "\u001b[1;31mPolynomialError\u001b[0m: \nonly polynomials and rational functions are supported in this context."
     ]
    }
   ],
   "source": [
    "reduce_rational_inequalities([[-12 * x**4 * sin(cos(x)) - 18 * x**3 + 5 * x**2 + 10 * x - 30 < 0]], x)"
   ]
  }
 ],
 "metadata": {
  "kernelspec": {
   "display_name": "Python 3 (ipykernel)",
   "language": "python",
   "name": "python3"
  },
  "language_info": {
   "codemirror_mode": {
    "name": "ipython",
    "version": 3
   },
   "file_extension": ".py",
   "mimetype": "text/x-python",
   "name": "python",
   "nbconvert_exporter": "python",
   "pygments_lexer": "ipython3",
   "version": "3.9.12"
  },
  "vscode": {
   "interpreter": {
    "hash": "8a0b5a81076ab245305b566b09932c7d4922eeeebae69d56693a7abbf868c8f5"
   }
  }
 },
 "nbformat": 4,
 "nbformat_minor": 5
}
